{
  "cells": [
    {
      "cell_type": "markdown",
      "metadata": {
        "id": "view-in-github",
        "colab_type": "text"
      },
      "source": [
        "<a href=\"https://colab.research.google.com/github/RafaelNovais/MasterAI/blob/master/Assignment2_DL_23113607.ipynb\" target=\"_parent\"><img src=\"https://colab.research.google.com/assets/colab-badge.svg\" alt=\"Open In Colab\"/></a>"
      ]
    },
    {
      "cell_type": "markdown",
      "metadata": {
        "id": "yr-O3ofPluaI"
      },
      "source": [
        "# Deep Learning (/Online) CT5133 / CT5145, 2024-2025\n",
        "\n",
        "# Assignment 2\n",
        "\n",
        "* In this assignment we will use a modern neural network library, ie Keras or PyTorch;\n",
        "* We will create a small model for classification of the Fashion-MNIST dataset;\n",
        "* We will inspect and comment on the output of each layer before training, and after 1 epoch, after 2 more epochs, etc.;\n",
        "* We will look at the performance of the model.\n",
        "\n",
        "# Admin details\n",
        "\n",
        "**Weight**: This assignment is worth 20% of the module.\n",
        "\n",
        "**Submission**: Work in this file, and submit a single `.ipynb` file. Do not submit a `.zip`.\n",
        "\n",
        "**Due date**: end of Week 10, as announced on Canvas. No extensions are possible because of the requirement for interviews (see below).\n",
        "\n",
        "**Groups**: you may work alone, or in a group of 2 of your choice. If in a group of 2, you must inform the lecturer of the group by email, cc-ing both members and including both members' names and ID numbers. You must send that email at least 1 week before the due date. And you must work together on all parts: you cannot divide the parts up between the group members. If in a group of 2, both students should make a submission and both should be identical.\n",
        "\n",
        "**Academic integrity**: You may discuss the assignment with other students/groups, but may not show your work to others or allow others to see yours. You may use code sourced from the internet, and code sourced from AI. You must include a citation and URL in such cases, showing specifically what parts of your code were sourced from what. For example, a URL should be placed to show which lines were sourced from which page. If using AI, you must cite the AI name and version, and URL, and quote the prompt(s). Regardless of what you submit, you must understand it when interviewed (see below).\n",
        "\n",
        "**Interviews**: after submission, some students/groups will be interviewed to check on their understanding of their own work. An inability to explain your work may result in a grade penalty, a zero grade, or an academic integrity report. Students who discuss their genuine work-in-progress with lecturer or TAs in labs before submission are less likely to be selected for interview. Students who submit code that suggests a lack of understanding are more likely to be selected for interview. Submissions which appear to be unrelated to class materials, discussions, code and terminology as used in class and labs, are more likely to be selected for interview. Interviews will take place **during the normal lab times**, that is Tuesdays 4-6pm (CT5133) and Tuesdays / Thursdays 6-7pm (CT5145) during Weeks 11 and 12. Please book these slots in your calendar now, as when individuals are called to interview there will not be an opportunity to reschedule. Failure to attend interview will result in a zero grade for the assignment.\n",
        "\n",
        "**Academic integrity: School policy and guidelines**: https://www.universityofgalway.ie/science-engineering/school-of-computer-science/currentstudents/academicintegrity/\n",
        "\n",
        "# Tasks\n",
        "\n",
        "1. Load the Fashion-MNIST dataset.\n",
        "2. Create a suitable small model in Keras or PyTorch, ending in a suitable softmax layer, and show a summary of the layers and number of parameters, but do not train it yet.\n",
        "3. Calculate its performance on `x_test, y_test`, and illustrate its performance by completing the function `display_images_labels_preds` and calling it.\n",
        "4. For each layer (excluding layers with no weights, such as Batch-Norm, Dropout, Maxpool), extract the outputs of that layer when running the model on `x_viz`.\n",
        "5. Use the provided code `visualize_layer_outputs` to visualise (a subset of) the outputs found in step 3, coloured by `y_viz`.\n",
        "6. Now train for 1 epoch, and repeat steps 3-5.\n",
        "7. Now train for 2 **more** epochs (total 3 epochs so far), and repeat steps 3-5.\n",
        "8. Now train for 3 **more** epochs (total 6 epochs so far), and repeat steps 3-5.\n",
        "9. Continue until you judge the model is trained sufficiently.\n",
        "10. Comment very briefly (eg, up to 5 bullet-points) on the distributions you observe in steps 3-9. Marks will be awarded for insight, not comprehensiveness. That is, you need to show you know what has happened and why. You don't need to comment on every individual plot.\n",
        "\n",
        "# Notes\n",
        "\n",
        "* A lot of code is provided below.\n",
        "* You may wish to wrap all of steps 3-9 in a for-loop, rather than writing it out as separate steps.\n",
        "* Before completing all of the above, you may wish to experiment with different models and hyperparameters until you arrive at a design that will train successfully (eg, at least 80% accuracy on `x_test, y_test`).\n",
        "* You may be able to carry out training for this assignment locally. Google Colab or other online services can also be used.\n",
        "* I am loading the data using Keras, but you can use Keras or PyTorch for your code.\n",
        "\n",
        "# Some typical interview questions\n",
        "\n",
        "* Why does this layer have this number of parameters?\n",
        "* What does this line of code do?\n",
        "* Why is the data distributed in this way?\n",
        "* Which layer gives the most useful embedding for the classification task?"
      ]
    },
    {
      "cell_type": "code",
      "execution_count": null,
      "metadata": {
        "id": "iMkqYO3XluaL"
      },
      "outputs": [],
      "source": [
        "import tensorflow as tf\n",
        "from tensorflow.keras.datasets import fashion_mnist\n",
        "from tensorflow.keras.models import Sequential\n",
        "from tensorflow.keras.layers import Conv2D, Dense, Flatten, InputLayer, Dropout, BatchNormalization, MaxPooling2D\n",
        "\n",
        "import numpy as np\n",
        "import matplotlib.pyplot as plt\n",
        "import seaborn as sns\n",
        "import random\n",
        "import pandas as pd"
      ]
    },
    {
      "cell_type": "code",
      "execution_count": null,
      "metadata": {
        "id": "0tUVdl1jluaL"
      },
      "outputs": [],
      "source": [
        "\n",
        "def load_fashion_mnist_5():\n",
        "\n",
        "    # loading F-MNIST using Keras\n",
        "    # we select just 5 of the Fashion-MNIST classes\n",
        "    # we're also going to discard a lot of data, just to make training quick,\n",
        "    # and make it easy to see the progress of a *small* amount of training at a time\n",
        "    # in real life, we pretty much never discard training data.\n",
        "\n",
        "\n",
        "    (x_train, y_train), (x_test, y_test) = fashion_mnist.load_data()\n",
        "\n",
        "    # Filter 5 classes from training data\n",
        "    selected_classes = [0, 1, 2, 3, 4]\n",
        "    mask_train = np.isin(y_train, selected_classes)\n",
        "    x_train = x_train[mask_train]\n",
        "    y_train = y_train[mask_train]\n",
        "\n",
        "    # Filter test data\n",
        "    mask_test = np.isin(y_test, selected_classes)\n",
        "    x_test = x_test[mask_test]\n",
        "    y_test = y_test[mask_test]\n",
        "\n",
        "    # reshape\n",
        "    x_train = x_train.reshape(-1, 28, 28, 1)\n",
        "    x_test = x_test.reshape(-1, 28, 28, 1)\n",
        "\n",
        "    # discard many of the images\n",
        "    idxs = np.random.choice(x_train.shape[0], size=2000, replace=False)\n",
        "    x_train = x_train[idxs]\n",
        "    y_train = y_train[idxs]\n",
        "\n",
        "    # we only need a little data for test, again just to make things quick\n",
        "    idxs = np.random.choice(x_test.shape[0], size=500, replace=False)\n",
        "    x_test = x_test[idxs]\n",
        "    y_test = y_test[idxs]\n",
        "\n",
        "    # we also want a very small subset of unseen data for visualisation.\n",
        "    idxs = np.random.choice(x_test.shape[0], size=200, replace=False)\n",
        "    x_viz = x_test[idxs]\n",
        "    y_viz = y_test[idxs]\n",
        "\n",
        "    return (x_train, y_train), (x_test, y_test), (x_viz, y_viz)"
      ]
    },
    {
      "cell_type": "code",
      "execution_count": null,
      "metadata": {
        "id": "rJ1pHwrZluaM",
        "outputId": "a753385c-3f3b-4239-d562-e713f6fcf57a"
      },
      "outputs": [
        {
          "name": "stdout",
          "output_type": "stream",
          "text": [
            "x_train: (2000, 28, 28, 1)\n",
            "y_train: (2000,)\n",
            "y_viz classes: [0 1 2 3 4]\n",
            "x_test: (500, 28, 28, 1)\n",
            "y_test: (500,)\n",
            "y_viz classes: [0 1 2 3 4]\n",
            "x_viz: (200, 28, 28, 1)\n",
            "y_viz: (200,)\n",
            "y_viz classes: [0 1 2 3 4]\n"
          ]
        }
      ],
      "source": [
        "(x_train, y_train), (x_test, y_test), (x_viz, y_viz) = load_fashion_mnist_5()\n",
        "print(f\"x_train: {x_train.shape}\")\n",
        "print(f\"y_train: {y_train.shape}\")\n",
        "print(f\"y_viz classes: {np.unique(y_train)}\")\n",
        "print(f\"x_test: {x_test.shape}\")\n",
        "print(f\"y_test: {y_test.shape}\")\n",
        "print(f\"y_viz classes: {np.unique(y_test)}\")\n",
        "print(f\"x_viz: {x_viz.shape}\")\n",
        "print(f\"y_viz: {y_viz.shape}\")\n",
        "print(f\"y_viz classes: {np.unique(y_viz)}\")\n"
      ]
    },
    {
      "cell_type": "code",
      "execution_count": null,
      "metadata": {
        "id": "nLRo59f0luaM"
      },
      "outputs": [],
      "source": [
        "# Create model\n",
        "model = None # YOUR CODE HERE. create and compile the model, but don't train it yet\n"
      ]
    },
    {
      "cell_type": "code",
      "execution_count": null,
      "metadata": {
        "id": "hR1fDmaKluaM"
      },
      "outputs": [],
      "source": [
        "# Summarise the model\n",
        "\n",
        "# YOUR CODE HERE. print out a summary of the model's layers, number of parameters."
      ]
    },
    {
      "cell_type": "code",
      "execution_count": null,
      "metadata": {
        "id": "-BgbeM5yluaN"
      },
      "outputs": [],
      "source": [
        "def display_images_labels_preds(model, x, y, n_images=4):\n",
        "    # display some of the images in x, with the ground-truth label and the model's label\n",
        "    # see below for an example\n",
        "\n",
        "    # model: an NN model which can be run\n",
        "    # x: image data of shape (n, 28, 28, 1)\n",
        "    # y: label data of shape (n,)\n",
        "\n",
        "    # YOUR CODE HERE: run the model to get its predictions\n",
        "    model\n",
        "\n",
        "    plt.figure(figsize=(15, 3))\n",
        "    for i in range(n_images):\n",
        "        idx = random.randrange(len(y))\n",
        "        plt.subplot(1, n_images, i+1)\n",
        "        plt.imshow(x[idx].reshape(28, 28), cmap='gray')\n",
        "        plt.title('') # YOUR CODE HERE: show the true y value and the model's prediction\n",
        "        plt.axis('off')\n",
        "    plt.tight_layout()\n"
      ]
    },
    {
      "cell_type": "code",
      "execution_count": null,
      "metadata": {
        "id": "CNmFNOX1luaN",
        "outputId": "d484d10d-bd2b-4998-f8fb-db697e898efc"
      },
      "outputs": [
        {
          "name": "stdout",
          "output_type": "stream",
          "text": [
            "\u001b[1m16/16\u001b[0m \u001b[32m━━━━━━━━━━━━━━━━━━━━\u001b[0m\u001b[37m\u001b[0m \u001b[1m0s\u001b[0m 8ms/step\n"
          ]
        },
        {
          "data": {
            "image/png": "[encoded data removed]",
            "text/plain": [
              "<Figure size 1500x300 with 5 Axes>"
            ]
          },
          "metadata": {},
          "output_type": "display_data"
        }
      ],
      "source": [
        "display_images_labels_preds(model, x_test, y_test, 5)"
      ]
    },
    {
      "cell_type": "code",
      "execution_count": null,
      "metadata": {
        "id": "GzNV7gsJluaN"
      },
      "outputs": [],
      "source": [
        "def extract_layers_outputs(model, x):\n",
        "    outputs = []\n",
        "\n",
        "    # YOUR CODE HERE. run x through the model, and save the resulting output from *each* layer to the list 'outputs'\n",
        "\n",
        "    return outputs"
      ]
    },
    {
      "cell_type": "code",
      "execution_count": null,
      "metadata": {
        "id": "pQpgHLwoluaN"
      },
      "outputs": [],
      "source": [
        "def visualize_layer_outputs(layer_output, y, max_features=5):\n",
        "\n",
        "    # create a pairplot to show the pairwise distributions of several features from among those in layer_output\n",
        "    # max_features is 5 as it's hard to look at more pairwise plots than this\n",
        "    # if layer_output contains more than 5 features, we randomly sub-sample.\n",
        "\n",
        "    # THIS FUNCTION IS COMPLETE, no need to write anything.\n",
        "    # This function is expected to work regardless of what NN library you use,\n",
        "    # as it just treats layer_output as a numpy array\n",
        "\n",
        "    # Flatten the layer output, so we can deal with output from this layer no matter what shape\n",
        "    samples = layer_output.shape[0]\n",
        "    flattened = layer_output.reshape(samples, -1)\n",
        "\n",
        "    # Select features (all if less than max_features, otherwise random sample)\n",
        "    feature_count = flattened.shape[1]\n",
        "    if feature_count <= max_features:\n",
        "        selected_indices = range(feature_count)\n",
        "    else:\n",
        "        selected_indices = np.random.choice(feature_count, max_features, replace=False)\n",
        "\n",
        "    # Create DataFrame with selected features\n",
        "    df = pd.DataFrame(flattened[:, selected_indices],\n",
        "                     columns=[f'Feature_{i}' for i in selected_indices])\n",
        "    df['Class'] = y  # Add labels as a column\n",
        "\n",
        "    # Create the pairplot with hue parameter for coloring by class\n",
        "    plot = sns.pairplot(df, corner=True, diag_kind='kde', hue='Class', palette='Set1')\n",
        "    plt.suptitle(f'Layer Output Distribution (showing {len(selected_indices)} features)', y=1.02)\n",
        "\n",
        "    return plot\n"
      ]
    },
    {
      "cell_type": "code",
      "execution_count": null,
      "metadata": {
        "id": "Ftt3eDSSluaO"
      },
      "outputs": [],
      "source": [
        "# YOUR CODE HERE. visualise, look at performance, train for some epoch(s), repeat"
      ]
    }
  ],
  "metadata": {
    "kernelspec": {
      "display_name": "base",
      "language": "python",
      "name": "python3"
    },
    "language_info": {
      "codemirror_mode": {
        "name": "ipython",
        "version": 3
      },
      "file_extension": ".py",
      "mimetype": "text/x-python",
      "name": "python",
      "nbconvert_exporter": "python",
      "pygments_lexer": "ipython3",
      "version": "3.11.7"
    },
    "colab": {
      "provenance": [],
      "include_colab_link": true
    }
  },
  "nbformat": 4,
  "nbformat_minor": 0
}